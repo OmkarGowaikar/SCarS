{
 "cells": [
  {
   "cell_type": "code",
   "execution_count": 3,
   "metadata": {},
   "outputs": [],
   "source": [
    "from PIL import Image\n",
    "import os\n",
    "import cv2 as cv\n",
    "import numpy as np\n",
    "import time\n",
    "import json"
   ]
  },
  {
   "cell_type": "code",
   "execution_count": 7,
   "metadata": {},
   "outputs": [],
   "source": [
    "detector = cv.CascadeClassifier(\"haarcascade_frontalface_alt.xml\")\n",
    "recognizer = cv.face.LBPHFaceRecognizer_create()\n",
    "path = (\"folder/\") #Images of all the drivers will be stored in the 'drivers' folder\n",
    "#num_users = input(\"Enter the number of drivers to be registered: \")\n",
    "usernames_list = [] # Is a list of driver ID's ( \"1\", \"2\", .... )\n",
    "driver_dict = {}"
   ]
  },
  {
   "cell_type": "code",
   "execution_count": 9,
   "metadata": {},
   "outputs": [
    {
     "name": "stdout",
     "output_type": "stream",
     "text": [
      "Register? type Yes/No: Yes\n",
      "Registration 1\n",
      "Enter name: IronMan\n",
      "Register? type Yes/No: No\n",
      "['1', '1']\n",
      "{'1': 'IronMan'}\n",
      "[1, 1, 1, 1, 1, 1, 1, 1]\n",
      "8\n"
     ]
    }
   ],
   "source": [
    "i = 0\n",
    "while (1):\n",
    "    key = input(\"Register? type Yes/No: \")\n",
    "    if(key.upper() == \"NO\" ):\n",
    "        break\n",
    "    print(\"Registration \"+str(i+1))\n",
    "    usernames_list.append(str(i+1))\n",
    "    driver_name = input(\"Enter name: \")\n",
    "    driver_dict[str(i+1)] = driver_name\n",
    "    i+=1\n",
    "faceSamples = [] #sample of faces as a list of numpy arrays\n",
    "Ids = [] #ID corresponding to each face sample\n",
    "print(usernames_list)\n",
    "print(driver_dict)\n",
    "for i in usernames_list: # retrieving face samples of the ith person\n",
    "    this_path = path + i\n",
    "    ID = int(i)\n",
    "    for pic_file in os.listdir(this_path):\n",
    "        #imagePaths.append(tmp + \"/\" + pic_file) \n",
    "        grayscale_image = Image.open(this_path + \"/\" + pic_file).convert('L') #We convert the picture into grayscale\n",
    "        image_as_numpyarray = np.array(grayscale_image, 'uint8')\n",
    "        # extract the face from the training image sample\n",
    "        faces_list = detector.detectMultiScale(image_as_numpyarray) #faces_list is a list of faces detected in this pic\n",
    "        for (x, y, w, h) in faces_list:\n",
    "            face_as_numpyarray = image_as_numpyarray[y:y + h, x:x + w] #Numpy array slicing that extracts the face portion of the array\n",
    "            faceSamples.append(face_as_numpyarray)  \n",
    "            Ids.append(ID)\n",
    "json_string = json.dumps(driver_dict) #storing the names of drivers\n",
    "f = open(\"driver_names.json\", \"w\")\n",
    "f.write(json_string)\n",
    "f.close()\n",
    "print(Ids)\n",
    "print(len(faceSamples))\n",
    "recognizer.train(faceSamples, np.array(Ids))\n",
    "recognizer.save(\"trained21.yml\")"
   ]
  },
  {
   "cell_type": "code",
   "execution_count": null,
   "metadata": {},
   "outputs": [],
   "source": []
  }
 ],
 "metadata": {
  "kernelspec": {
   "display_name": "Python 3",
   "language": "python",
   "name": "python3"
  },
  "language_info": {
   "codemirror_mode": {
    "name": "ipython",
    "version": 3
   },
   "file_extension": ".py",
   "mimetype": "text/x-python",
   "name": "python",
   "nbconvert_exporter": "python",
   "pygments_lexer": "ipython3",
   "version": "3.7.3"
  }
 },
 "nbformat": 4,
 "nbformat_minor": 2
}
